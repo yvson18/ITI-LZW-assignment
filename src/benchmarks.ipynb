{
 "cells": [
  {
   "cell_type": "code",
   "execution_count": 7,
   "metadata": {},
   "outputs": [],
   "source": [
    "from utils import *\n",
    "from encoding import *"
   ]
  },
  {
   "cell_type": "code",
   "execution_count": 8,
   "metadata": {},
   "outputs": [],
   "source": [
    "with open('../silesia/dickens', 'rb') as f:\n",
    "    data = f.read()"
   ]
  },
  {
   "cell_type": "markdown",
   "metadata": {},
   "source": [
    "### Dicionário estático"
   ]
  },
  {
   "cell_type": "code",
   "execution_count": 9,
   "metadata": {},
   "outputs": [
    {
     "name": "stderr",
     "output_type": "stream",
     "text": [
      "Encoding: 100%|██████████████████████████████████████████████████| 10192446/10192446 | 00:05<00:00 | elapsed: 5.670s\n",
      "Calculating series: 100%|██████████████████████████████████████████████████| 3769045/3769045 | 00:01<00:00 | elapsed: 1.044s\n"
     ]
    }
   ],
   "source": [
    "# create dir ../plots if it doesn't exist\n",
    "if not os.path.exists('../plots'):\n",
    "    os.makedirs('../plots')\n",
    "\n",
    "file_name = \"compression over simbols static dictionary.png\"\n",
    "\n",
    "plot_medium_length_curve(comp, f'Comprimento Médio x symb vistos  - Dict estático max size {\"{:.2e}\".format(max_dict_len)}', f\"../plots/{file_name}\")"
   ]
  }
 ],
 "metadata": {
  "kernelspec": {
   "display_name": "venv",
   "language": "python",
   "name": "python3"
  },
  "language_info": {
   "codemirror_mode": {
    "name": "ipython",
    "version": 3
   },
   "file_extension": ".py",
   "mimetype": "text/x-python",
   "name": "python",
   "nbconvert_exporter": "python",
   "pygments_lexer": "ipython3",
   "version": "3.10.12"
  }
 },
 "nbformat": 4,
 "nbformat_minor": 2
}
